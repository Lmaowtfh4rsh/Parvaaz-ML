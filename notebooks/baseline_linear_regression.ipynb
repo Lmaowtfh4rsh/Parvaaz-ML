{
 "cells": [
  {
   "cell_type": "code",
   "execution_count": 7,
   "id": "7a9a230e",
   "metadata": {},
   "outputs": [],
   "source": [
    "import pandas as pd\n",
    "import numpy as np\n",
    "from sklearn.linear_model import LinearRegression\n",
    "from sklearn.model_selection import cross_val_score\n",
    "from sklearn.metrics import make_scorer, mean_squared_error\n",
    "\n",
    "RANDOM_STATE = 42"
   ]
  },
  {
   "cell_type": "code",
   "execution_count": 8,
   "id": "5928de9a",
   "metadata": {},
   "outputs": [
    {
     "name": "stdout",
     "output_type": "stream",
     "text": [
      "   Therapy Hours  Initial Health Score  Lifestyle Activities  \\\n",
      "0              5                    49                     0   \n",
      "1              2                    48                     1   \n",
      "2              2                    81                     0   \n",
      "3              2                    46                     0   \n",
      "4              8                    47                     0   \n",
      "\n",
      "   Average Sleep Hours  Follow-Up Sessions  Recovery Index  \n",
      "0                    7                   5              36  \n",
      "1                    7                   6              25  \n",
      "2                    7                   2              59  \n",
      "3                    6                   1              22  \n",
      "4                    9                   0              40  \n",
      "Features (X) shape: (8000, 5)\n",
      "Target (y) shape: (8000,)\n"
     ]
    }
   ],
   "source": [
    "df_train = pd.read_csv('../data/train_processed.csv')\n",
    "print(df_train.head())\n",
    "features = ['Therapy Hours', 'Initial Health Score', 'Lifestyle Activities', 'Average Sleep Hours', 'Follow-Up Sessions']\n",
    "target = 'Recovery Index'\n",
    "\n",
    "X = df_train[features]\n",
    "y = df_train[target]\n",
    "\n",
    "print(f\"Features (X) shape: {X.shape}\")\n",
    "print(f\"Target (y) shape: {y.shape}\")"
   ]
  },
  {
   "cell_type": "code",
   "execution_count": 9,
   "id": "6684ad1d",
   "metadata": {},
   "outputs": [
    {
     "name": "stdout",
     "output_type": "stream",
     "text": [
      "Starting Model 1: Linear Regression...\n",
      "\n",
      "--- Linear Regression Results ---\n",
      "RMSE scores for 10 folds: [1.996 2.092 2.141 2.006 2.013 2.022 2.027 2.109 2.076 1.953]\n",
      "Average 10-Fold RMSE: 2.043\n",
      "Average 10-Fold R-squared: 0.989\n"
     ]
    }
   ],
   "source": [
    "# --- Model 1: Linear Regression ---\n",
    "\n",
    "print(\"Starting Model 1: Linear Regression...\")\n",
    "\n",
    "#Initialize the model\n",
    "model_lr = LinearRegression()\n",
    "\n",
    "#Set up scoring - 'cross_val_score' doesn't have a direct 'rmse' score, so we use 'neg_mean_squared_error' and then take its square root and flip the sign.\n",
    "scoring = 'neg_mean_squared_error'\n",
    "\n",
    "#Perform 10-fold cross-validation\n",
    "scores = cross_val_score(model_lr, X, y, cv=10, scoring=scoring, n_jobs=-1)\n",
    "\n",
    "#Calculate and print the results\n",
    "mse_scores = -scores  # Flip the sign back to positive\n",
    "rmse_scores = np.sqrt(mse_scores)\n",
    "avg_rmse = np.mean(rmse_scores)\n",
    "\n",
    "print(\"\\n--- Linear Regression Results ---\")\n",
    "print(f\"RMSE scores for 10 folds: {rmse_scores.round(3)}\")\n",
    "print(f\"Average 10-Fold RMSE: {avg_rmse:.3f}\")\n",
    "\n",
    "#R-squared\n",
    "r2_scores = cross_val_score(model_lr, X, y, cv=10, scoring='r2', n_jobs=-1)\n",
    "avg_r2 = np.mean(r2_scores)\n",
    "print(f\"Average 10-Fold R-squared: {avg_r2:.3f}\")"
   ]
  },
  {
   "cell_type": "code",
   "execution_count": null,
   "id": "a2aeade2",
   "metadata": {},
   "outputs": [
    {
     "name": "stdout",
     "output_type": "stream",
     "text": [
      "Loading test data...\n",
      "Test data and IDs loaded.\n",
      "\n",
      "Training a new model on ALL training data...\n",
      "Model trained successfully.\n",
      "\n",
      "Generating predictions...\n",
      "Creating submission file...\n",
      "\n",
      "Baseline submission file saved to: ../submission/submission_model1.csv\n"
     ]
    },
    {
     "data": {
      "text/html": [
       "<div>\n",
       "<style scoped>\n",
       "    .dataframe tbody tr th:only-of-type {\n",
       "        vertical-align: middle;\n",
       "    }\n",
       "\n",
       "    .dataframe tbody tr th {\n",
       "        vertical-align: top;\n",
       "    }\n",
       "\n",
       "    .dataframe thead th {\n",
       "        text-align: right;\n",
       "    }\n",
       "</style>\n",
       "<table border=\"1\" class=\"dataframe\">\n",
       "  <thead>\n",
       "    <tr style=\"text-align: right;\">\n",
       "      <th></th>\n",
       "      <th>Id</th>\n",
       "      <th>Recovery Index</th>\n",
       "    </tr>\n",
       "  </thead>\n",
       "  <tbody>\n",
       "    <tr>\n",
       "      <th>0</th>\n",
       "      <td>6253</td>\n",
       "      <td>55</td>\n",
       "    </tr>\n",
       "    <tr>\n",
       "      <th>1</th>\n",
       "      <td>4685</td>\n",
       "      <td>23</td>\n",
       "    </tr>\n",
       "    <tr>\n",
       "      <th>2</th>\n",
       "      <td>1732</td>\n",
       "      <td>48</td>\n",
       "    </tr>\n",
       "    <tr>\n",
       "      <th>3</th>\n",
       "      <td>4743</td>\n",
       "      <td>31</td>\n",
       "    </tr>\n",
       "    <tr>\n",
       "      <th>4</th>\n",
       "      <td>4522</td>\n",
       "      <td>43</td>\n",
       "    </tr>\n",
       "  </tbody>\n",
       "</table>\n",
       "</div>"
      ],
      "text/plain": [
       "     Id  Recovery Index\n",
       "0  6253              55\n",
       "1  4685              23\n",
       "2  1732              48\n",
       "3  4743              31\n",
       "4  4522              43"
      ]
     },
     "execution_count": 11,
     "metadata": {},
     "output_type": "execute_result"
    }
   ],
   "source": [
    "# --- Baseline Submission Cell ---\n",
    "\n",
    "print(\"Loading test data...\")\n",
    "X_test = pd.read_csv('../data/test_processed.csv')\n",
    "\n",
    "test_ids = pd.read_csv('../data/test_ids.csv')\n",
    "print(\"Test data and IDs loaded.\")\n",
    "\n",
    "\n",
    "print(\"\\nTraining a new model on ALL training data...\")\n",
    "#Create a fresh instance of the model\n",
    "final_lr_model = LinearRegression()\n",
    "\n",
    "#Train it on 100% of the training data\n",
    "final_lr_model.fit(X, y)\n",
    "print(\"Model trained successfully.\")\n",
    "\n",
    "\n",
    "print(\"\\nGenerating predictions...\")\n",
    "#Use the trained model to predict on the test data\n",
    "predictions = final_lr_model.predict(X_test)\n",
    "\n",
    "\n",
    "print(\"Creating submission file...\")\n",
    "submission_df = pd.DataFrame({'Id': test_ids['Id'], 'Recovery Index': predictions})\n",
    "submission_df['Recovery Index'] = submission_df['Recovery Index'].round().astype(int)\n",
    "\n",
    "submission_path = '../submission/submission_model1.csv'\n",
    "submission_df.to_csv(submission_path, index=False)\n",
    "\n",
    "print(f\"\\nBaseline submission file saved to: {submission_path}\")\n",
    "submission_df.head()"
   ]
  }
 ],
 "metadata": {
  "kernelspec": {
   "display_name": "myenv",
   "language": "python",
   "name": "python3"
  },
  "language_info": {
   "codemirror_mode": {
    "name": "ipython",
    "version": 3
   },
   "file_extension": ".py",
   "mimetype": "text/x-python",
   "name": "python",
   "nbconvert_exporter": "python",
   "pygments_lexer": "ipython3",
   "version": "3.12.3"
  }
 },
 "nbformat": 4,
 "nbformat_minor": 5
}
