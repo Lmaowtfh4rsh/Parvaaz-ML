{
 "cells": [
  {
   "cell_type": "code",
   "execution_count": 1,
   "id": "7a9a230e",
   "metadata": {},
   "outputs": [],
   "source": [
    "import pandas as pd\n",
    "import numpy as np\n",
    "from sklearn.linear_model import LinearRegression\n",
    "from sklearn.model_selection import cross_val_score\n",
    "from sklearn.metrics import make_scorer, mean_squared_error\n",
    "\n",
    "RANDOM_STATE = 42"
   ]
  },
  {
   "cell_type": "code",
   "execution_count": null,
   "id": "5928de9a",
   "metadata": {},
   "outputs": [],
   "source": [
    "df_train = pd.read_csv('../data/train_processed.csv')\n",
    "print(df_train.head())\n",
    "features = ['Therapy Hours', 'Initial Health Score', 'Lifestyle Activities', 'Average Sleep Hours', 'Follow-Up Sessions']\n",
    "target = 'Recovery Index'\n",
    "\n",
    "X = df_train[features]\n",
    "y = df_train[target]\n",
    "\n",
    "print(f\"Features (X) shape: {X.shape}\")\n",
    "print(f\"Target (y) shape: {y.shape}\")"
   ]
  },
  {
   "cell_type": "code",
   "execution_count": null,
   "id": "6684ad1d",
   "metadata": {},
   "outputs": [],
   "source": [
    "# --- Model 1: Linear Regression ---\n",
    "\n",
    "print(\"Starting Model 1: Linear Regression...\")\n",
    "\n",
    "#Initialize the model\n",
    "model_lr = LinearRegression()\n",
    "\n",
    "#Set up scoring - 'cross_val_score' doesn't have a direct 'rmse' score, so we use 'neg_mean_squared_error' and then take its square root and flip the sign.\n",
    "scoring = 'neg_mean_squared_error'\n",
    "\n",
    "#Perform 10-fold cross-validation\n",
    "scores = cross_val_score(model_lr, X, y, cv=10, scoring=scoring, n_jobs=-1)\n",
    "\n",
    "#Calculate and print the results\n",
    "mse_scores = -scores  # Flip the sign back to positive\n",
    "rmse_scores = np.sqrt(mse_scores)\n",
    "avg_rmse = np.mean(rmse_scores)\n",
    "\n",
    "print(\"\\n--- Linear Regression Results ---\")\n",
    "print(f\"RMSE scores for 10 folds: {rmse_scores.round(3)}\")\n",
    "print(f\"Average 10-Fold RMSE: {avg_rmse:.3f}\")\n",
    "\n",
    "#R-squared\n",
    "r2_scores = cross_val_score(model_lr, X, y, cv=10, scoring='r2', n_jobs=-1)\n",
    "avg_r2 = np.mean(r2_scores)\n",
    "print(f\"Average 10-Fold R-squared: {avg_r2:.3f}\")"
   ]
  },
  {
   "cell_type": "code",
   "execution_count": null,
   "id": "a2aeade2",
   "metadata": {},
   "outputs": [],
   "source": [
    "# --- Baseline Submission Cell ---\n",
    "\n",
    "print(\"Loading test data...\")\n",
    "X_test = pd.read_csv('../data/test_processed.csv')\n",
    "\n",
    "test_ids = pd.read_csv('../data/test_ids.csv')\n",
    "print(\"Test data and IDs loaded.\")\n",
    "\n",
    "\n",
    "print(\"\\nTraining a new model on ALL training data...\")\n",
    "#Create a fresh instance of the model\n",
    "final_lr_model = LinearRegression()\n",
    "\n",
    "#Train it on 100% of the training data\n",
    "final_lr_model.fit(X, y)\n",
    "print(\"Model trained successfully.\")\n",
    "\n",
    "\n",
    "print(\"\\nGenerating predictions...\")\n",
    "#Use the trained model to predict on the test data\n",
    "predictions = final_lr_model.predict(X_test)\n",
    "\n",
    "\n",
    "print(\"Creating submission file...\")\n",
    "submission_df = pd.DataFrame({'Id': test_ids['Id'], 'Recovery Index': predictions})\n",
    "submission_df['Recovery Index'] = submission_df['Recovery Index'].round().astype(int)\n",
    "\n",
    "submission_path = '../submission/submission_model1.csv'\n",
    "submission_df.to_csv(submission_path, index=False)\n",
    "\n",
    "print(f\"\\nBaseline submission file saved to: {submission_path}\")\n",
    "submission_df.head()"
   ]
  }
 ],
 "metadata": {
  "kernelspec": {
   "display_name": "myenv",
   "language": "python",
   "name": "python3"
  },
  "language_info": {
   "codemirror_mode": {
    "name": "ipython",
    "version": 3
   },
   "file_extension": ".py",
   "mimetype": "text/x-python",
   "name": "python",
   "nbconvert_exporter": "python",
   "pygments_lexer": "ipython3",
   "version": "3.12.3"
  }
 },
 "nbformat": 4,
 "nbformat_minor": 5
}
