{
 "cells": [
  {
   "cell_type": "code",
   "execution_count": 1,
   "id": "43581a3e",
   "metadata": {},
   "outputs": [],
   "source": [
    "import pandas as pd\n",
    "import numpy as np\n",
    "from sklearn.tree import DecisionTreeRegressor\n",
    "from sklearn.model_selection import GridSearchCV\n",
    "\n",
    "from sklearn.metrics import make_scorer, mean_squared_error\n",
    "\n",
    "RANDOM_STATE = 42"
   ]
  },
  {
   "cell_type": "code",
   "execution_count": 2,
   "id": "52be24f0",
   "metadata": {},
   "outputs": [
    {
     "name": "stdout",
     "output_type": "stream",
     "text": [
      "Features (X) shape: (8000, 5)\n",
      "Target (y) shape: (8000,)\n"
     ]
    }
   ],
   "source": [
    "# Load the processed training data\n",
    "df_train = pd.read_csv('../data/train_processed.csv')\n",
    "features = ['Therapy Hours', 'Initial Health Score', 'Lifestyle Activities', 'Average Sleep Hours', 'Follow-Up Sessions']\n",
    "target = 'Recovery Index'\n",
    "\n",
    "X = df_train[features]\n",
    "y = df_train[target]\n",
    "\n",
    "print(f\"Features (X) shape: {X.shape}\")\n",
    "print(f\"Target (y) shape: {y.shape}\")"
   ]
  },
  {
   "cell_type": "code",
   "execution_count": null,
   "id": "35ce3ebb",
   "metadata": {},
   "outputs": [
    {
     "name": "stdout",
     "output_type": "stream",
     "text": [
      "Starting Model 4: Decision Tree Tuning...\n",
      "\n",
      "--- Decision Tree Results (RMSE) ---\n",
      "Best Parameters found: {'max_depth': None, 'min_samples_leaf': 10}\n",
      "Average 10-Fold RMSE (from best model): 2.429\n",
      "\n",
      "--- Decision Tree Results (R-squared) ---\n",
      "Average 10-Fold R-squared (from best model): 0.984\n"
     ]
    }
   ],
   "source": [
    "# --- Model 5: Decision Tree Regressor ---\n",
    "\n",
    "print(\"Starting Model 5: Decision Tree Tuning...\")\n",
    "\n",
    "#Initialize the model\n",
    "model_dt = DecisionTreeRegressor(random_state=RANDOM_STATE)\n",
    "\n",
    "#Define the parameters to search\n",
    "param_grid = {\n",
    "    'max_depth': [3, 5, 7, 10, None],\n",
    "    'min_samples_leaf': [5, 10, 20, 50]\n",
    "}\n",
    "\n",
    "#Set up GridSearchCV for RMSE\n",
    "search_rmse = GridSearchCV(\n",
    "    model_dt,\n",
    "    param_grid,\n",
    "    cv=10,\n",
    "    scoring='neg_mean_squared_error',\n",
    "    n_jobs=-1\n",
    ")\n",
    "\n",
    "search_rmse.fit(X, y)\n",
    "\n",
    "print(\"\\n--- Decision Tree Results (RMSE) ---\")\n",
    "print(f\"Best Parameters found: {search_rmse.best_params_}\")\n",
    "best_rmse = np.sqrt(-search_rmse.best_score_)\n",
    "print(f\"Average 10-Fold RMSE (from best model): {best_rmse:.3f}\")\n",
    "\n",
    "#Set up GridSearchCV for R-squared\n",
    "search_r2 = GridSearchCV(\n",
    "    model_dt,\n",
    "    param_grid,\n",
    "    cv=10,\n",
    "    scoring='r2',\n",
    "    n_jobs=-1\n",
    ")\n",
    "search_r2.fit(X, y)\n",
    "\n",
    "print(\"\\n--- Decision Tree Results (R-squared) ---\")\n",
    "print(f\"Average 10-Fold R-squared (from best model): {search_r2.best_score_:.3f}\")"
   ]
  },
  {
   "cell_type": "code",
   "execution_count": 4,
   "id": "15b6914c",
   "metadata": {},
   "outputs": [
    {
     "name": "stdout",
     "output_type": "stream",
     "text": [
      "Loading test data...\n",
      "Test data and IDs loaded.\n",
      "\n",
      "Training a new model with best params: {'max_depth': None, 'min_samples_leaf': 10}\n",
      "Model trained successfully.\n",
      "\n",
      "Generating predictions...\n",
      "Creating submission file...\n",
      "\n",
      "Decision Tree submission file saved to: ../submission/submission_model5.csv\n"
     ]
    },
    {
     "data": {
      "text/html": [
       "<div>\n",
       "<style scoped>\n",
       "    .dataframe tbody tr th:only-of-type {\n",
       "        vertical-align: middle;\n",
       "    }\n",
       "\n",
       "    .dataframe tbody tr th {\n",
       "        vertical-align: top;\n",
       "    }\n",
       "\n",
       "    .dataframe thead th {\n",
       "        text-align: right;\n",
       "    }\n",
       "</style>\n",
       "<table border=\"1\" class=\"dataframe\">\n",
       "  <thead>\n",
       "    <tr style=\"text-align: right;\">\n",
       "      <th></th>\n",
       "      <th>Id</th>\n",
       "      <th>Recovery Index</th>\n",
       "    </tr>\n",
       "  </thead>\n",
       "  <tbody>\n",
       "    <tr>\n",
       "      <th>0</th>\n",
       "      <td>6253</td>\n",
       "      <td>56</td>\n",
       "    </tr>\n",
       "    <tr>\n",
       "      <th>1</th>\n",
       "      <td>4685</td>\n",
       "      <td>23</td>\n",
       "    </tr>\n",
       "    <tr>\n",
       "      <th>2</th>\n",
       "      <td>1732</td>\n",
       "      <td>48</td>\n",
       "    </tr>\n",
       "    <tr>\n",
       "      <th>3</th>\n",
       "      <td>4743</td>\n",
       "      <td>30</td>\n",
       "    </tr>\n",
       "    <tr>\n",
       "      <th>4</th>\n",
       "      <td>4522</td>\n",
       "      <td>43</td>\n",
       "    </tr>\n",
       "  </tbody>\n",
       "</table>\n",
       "</div>"
      ],
      "text/plain": [
       "     Id  Recovery Index\n",
       "0  6253              56\n",
       "1  4685              23\n",
       "2  1732              48\n",
       "3  4743              30\n",
       "4  4522              43"
      ]
     },
     "execution_count": 4,
     "metadata": {},
     "output_type": "execute_result"
    }
   ],
   "source": [
    "# --- Decision Tree Submission Cell ---\n",
    "\n",
    "print(\"Loading test data...\")\n",
    "X_test = pd.read_csv('../data/test_processed.csv')\n",
    "test_ids = pd.read_csv('../data/test_ids.csv')\n",
    "print(\"Test data and IDs loaded.\")\n",
    "\n",
    "#Get the best parameters from the search\n",
    "best_params = search_rmse.best_params_\n",
    "print(f\"\\nTraining a new model with best params: {best_params}\")\n",
    "\n",
    "final_dt_model = DecisionTreeRegressor(random_state=RANDOM_STATE)\n",
    "\n",
    "final_dt_model.set_params(**best_params)\n",
    "\n",
    "final_dt_model.fit(X, y)\n",
    "print(\"Model trained successfully.\")\n",
    "\n",
    "print(\"\\nGenerating predictions...\")\n",
    "predictions = final_dt_model.predict(X_test)\n",
    "\n",
    "print(\"Creating submission file...\")\n",
    "submission_df = pd.DataFrame({'Id': test_ids['Id'], 'Recovery Index': predictions})\n",
    "submission_df['Recovery Index'] = submission_df['Recovery Index'].round().astype(int)\n",
    "\n",
    "submission_path = '../submission/submission_model5.csv'\n",
    "submission_df.to_csv(submission_path, index=False)\n",
    "\n",
    "print(f\"\\nDecision Tree submission file saved to: {submission_path}\")\n",
    "submission_df.head()"
   ]
  }
 ],
 "metadata": {
  "kernelspec": {
   "display_name": "myenv",
   "language": "python",
   "name": "python3"
  },
  "language_info": {
   "codemirror_mode": {
    "name": "ipython",
    "version": 3
   },
   "file_extension": ".py",
   "mimetype": "text/x-python",
   "name": "python",
   "nbconvert_exporter": "python",
   "pygments_lexer": "ipython3",
   "version": "3.12.3"
  }
 },
 "nbformat": 4,
 "nbformat_minor": 5
}
