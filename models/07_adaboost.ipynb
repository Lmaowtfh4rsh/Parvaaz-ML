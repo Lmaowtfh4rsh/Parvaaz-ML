{
 "cells": [
  {
   "cell_type": "code",
   "execution_count": 6,
   "id": "3cdad695",
   "metadata": {},
   "outputs": [],
   "source": [
    "import pandas as pd\n",
    "import numpy as np\n",
    "from sklearn.ensemble import AdaBoostRegressor\n",
    "from sklearn.tree import DecisionTreeRegressor #\"base\" model\n",
    "from sklearn.model_selection import GridSearchCV\n",
    "\n",
    "from sklearn.metrics import make_scorer, mean_squared_error\n",
    "\n",
    "RANDOM_STATE = 42"
   ]
  },
  {
   "cell_type": "code",
   "execution_count": 7,
   "id": "1cb5ba28",
   "metadata": {},
   "outputs": [
    {
     "name": "stdout",
     "output_type": "stream",
     "text": [
      "Features (X) shape: (8000, 5)\n",
      "Target (y) shape: (8000,)\n"
     ]
    }
   ],
   "source": [
    "# Load the processed training data\n",
    "df_train = pd.read_csv('../data/train_processed.csv')\n",
    "\n",
    "features = ['Therapy Hours', 'Initial Health Score', 'Lifestyle Activities', 'Average Sleep Hours', 'Follow-Up Sessions']\n",
    "target = 'Recovery Index'\n",
    "\n",
    "X = df_train[features]\n",
    "y = df_train[target]\n",
    "\n",
    "print(f\"Features (X) shape: {X.shape}\")\n",
    "print(f\"Target (y) shape: {y.shape}\")"
   ]
  },
  {
   "cell_type": "code",
   "execution_count": 8,
   "id": "817ed031",
   "metadata": {},
   "outputs": [
    {
     "name": "stdout",
     "output_type": "stream",
     "text": [
      "Starting Model 7: AdaBoost Tuning...\n",
      "This may take a few minutes...\n",
      "Fitting 10 folds for each of 6 candidates, totalling 60 fits\n",
      "\n",
      "--- AdaBoost Results (RMSE) ---\n",
      "Best Parameters found: {'learning_rate': 1.0, 'n_estimators': 100}\n",
      "Average 10-Fold RMSE (from best model): 2.380\n"
     ]
    }
   ],
   "source": [
    "# --- Model 7: AdaBoost Regressor ---\n",
    "\n",
    "print(\"Starting Model 7: AdaBoost Tuning...\")\n",
    "print(\"This may take a few minutes...\")\n",
    "\n",
    "# AdaBoost needs a base model. We'll use a simple Decision Tree, as this is standard practice.\n",
    "base_estimator = DecisionTreeRegressor(max_depth=5) \n",
    "\n",
    "model_ada = AdaBoostRegressor(\n",
    "    estimator=base_estimator, \n",
    "    random_state=RANDOM_STATE\n",
    ")\n",
    "\n",
    "# Define the parameters to search\n",
    "# n_estimators: Number of trees to build sequentially.\n",
    "# learning_rate: How much to \"boost\" or correct errors at each step.\n",
    "param_grid = {\n",
    "    'n_estimators': [50, 100],\n",
    "    'learning_rate': [0.01, 0.1, 1.0]\n",
    "}\n",
    "\n",
    "# Set up GridSearchCV for RMSE\n",
    "search_rmse = GridSearchCV(\n",
    "    model_ada,\n",
    "    param_grid,\n",
    "    cv=10, \n",
    "    scoring='neg_mean_squared_error',\n",
    "    n_jobs=-1,\n",
    "    verbose=1 # This will print updates\n",
    ")\n",
    "\n",
    "# Run the tuning\n",
    "search_rmse.fit(X, y)\n",
    "print(\"\\n--- AdaBoost Results (RMSE) ---\")\n",
    "print(f\"Best Parameters found: {search_rmse.best_params_}\")\n",
    "best_rmse = np.sqrt(-search_rmse.best_score_)\n",
    "print(f\"Average 10-Fold RMSE (from best model): {best_rmse:.3f}\")"
   ]
  },
  {
   "cell_type": "code",
   "execution_count": 9,
   "id": "77956352",
   "metadata": {},
   "outputs": [
    {
     "name": "stdout",
     "output_type": "stream",
     "text": [
      "Loading test data...\n",
      "Test data and IDs loaded.\n",
      "\n",
      "Training a new model with best params: {'learning_rate': 1.0, 'n_estimators': 100}\n",
      "Model trained successfully.\n",
      "\n",
      "Generating predictions...\n",
      "Creating submission file...\n",
      "\n",
      "AdaBoost submission file saved to: ../submission/submission_model7.csv\n"
     ]
    },
    {
     "data": {
      "text/html": [
       "<div>\n",
       "<style scoped>\n",
       "    .dataframe tbody tr th:only-of-type {\n",
       "        vertical-align: middle;\n",
       "    }\n",
       "\n",
       "    .dataframe tbody tr th {\n",
       "        vertical-align: top;\n",
       "    }\n",
       "\n",
       "    .dataframe thead th {\n",
       "        text-align: right;\n",
       "    }\n",
       "</style>\n",
       "<table border=\"1\" class=\"dataframe\">\n",
       "  <thead>\n",
       "    <tr style=\"text-align: right;\">\n",
       "      <th></th>\n",
       "      <th>Id</th>\n",
       "      <th>Recovery Index</th>\n",
       "    </tr>\n",
       "  </thead>\n",
       "  <tbody>\n",
       "    <tr>\n",
       "      <th>0</th>\n",
       "      <td>6253</td>\n",
       "      <td>54.800664</td>\n",
       "    </tr>\n",
       "    <tr>\n",
       "      <th>1</th>\n",
       "      <td>4685</td>\n",
       "      <td>22.443936</td>\n",
       "    </tr>\n",
       "    <tr>\n",
       "      <th>2</th>\n",
       "      <td>1732</td>\n",
       "      <td>45.953061</td>\n",
       "    </tr>\n",
       "    <tr>\n",
       "      <th>3</th>\n",
       "      <td>4743</td>\n",
       "      <td>32.025840</td>\n",
       "    </tr>\n",
       "    <tr>\n",
       "      <th>4</th>\n",
       "      <td>4522</td>\n",
       "      <td>44.765625</td>\n",
       "    </tr>\n",
       "  </tbody>\n",
       "</table>\n",
       "</div>"
      ],
      "text/plain": [
       "     Id  Recovery Index\n",
       "0  6253       54.800664\n",
       "1  4685       22.443936\n",
       "2  1732       45.953061\n",
       "3  4743       32.025840\n",
       "4  4522       44.765625"
      ]
     },
     "execution_count": 9,
     "metadata": {},
     "output_type": "execute_result"
    }
   ],
   "source": [
    "# --- AdaBoost Submission Cell ---\n",
    "\n",
    "print(\"Loading test data...\")\n",
    "X_test = pd.read_csv('../data/test_processed.csv')\n",
    "test_ids = pd.read_csv('../data/test_ids.csv')\n",
    "print(\"Test data and IDs loaded.\")\n",
    "\n",
    "best_params = search_rmse.best_params_\n",
    "print(f\"\\nTraining a new model with best params: {best_params}\")\n",
    "\n",
    "final_ada_model = AdaBoostRegressor(\n",
    "    estimator=DecisionTreeRegressor(max_depth=5), \n",
    "    random_state=RANDOM_STATE\n",
    ")\n",
    "\n",
    "final_ada_model.set_params(**best_params)\n",
    "\n",
    "final_ada_model.fit(X, y)\n",
    "print(\"Model trained successfully.\")\n",
    "\n",
    "print(\"\\nGenerating predictions...\")\n",
    "predictions = final_ada_model.predict(X_test)\n",
    "\n",
    "print(\"Creating submission file...\")\n",
    "submission_df = pd.DataFrame({'Id': test_ids['Id'], 'Recovery Index': predictions})\n",
    "\n",
    "submission_path = '../submission/submission_model7.csv'\n",
    "submission_df.to_csv(submission_path, index=False)\n",
    "\n",
    "print(f\"\\nAdaBoost submission file saved to: {submission_path}\")\n",
    "submission_df.head()"
   ]
  }
 ],
 "metadata": {
  "kernelspec": {
   "display_name": "myenv",
   "language": "python",
   "name": "python3"
  },
  "language_info": {
   "codemirror_mode": {
    "name": "ipython",
    "version": 3
   },
   "file_extension": ".py",
   "mimetype": "text/x-python",
   "name": "python",
   "nbconvert_exporter": "python",
   "pygments_lexer": "ipython3",
   "version": "3.12.3"
  }
 },
 "nbformat": 4,
 "nbformat_minor": 5
}
